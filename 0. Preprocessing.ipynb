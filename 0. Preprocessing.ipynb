{
 "cells": [
  {
   "cell_type": "code",
   "execution_count": 5,
   "metadata": {},
   "outputs": [],
   "source": [
    "import pandas as pd\n",
    "import re\n",
    "import ast\n",
    "import json\n",
    "import redditcleaner"
   ]
  },
  {
   "cell_type": "markdown",
   "metadata": {},
   "source": [
    "## Import the Reddit posts and comments"
   ]
  },
  {
   "cell_type": "code",
   "execution_count": 3,
   "metadata": {
    "scrolled": true
   },
   "outputs": [
    {
     "data": {
      "text/plain": [
       "(354294, 15)"
      ]
     },
     "execution_count": 3,
     "metadata": {},
     "output_type": "execute_result"
    }
   ],
   "source": [
    "df = pd.read_parquet('../chronicPain2020-21.parquet')\n",
    "df.shape"
   ]
  },
  {
   "cell_type": "code",
   "execution_count": 4,
   "metadata": {},
   "outputs": [
    {
     "name": "stdout",
     "output_type": "stream",
     "text": [
      "92287\n",
      "4835\n"
     ]
    }
   ],
   "source": [
    "print(len(df[df['body'].isna()]))\n",
    "df.loc[df['body'].isna(),'body'] = df[df['body'].isna()]['selftext']\n",
    "print(len(df[df['body'].isna()]))"
   ]
  },
  {
   "cell_type": "markdown",
   "metadata": {},
   "source": [
    "## Preprocess the text"
   ]
  },
  {
   "cell_type": "code",
   "execution_count": 6,
   "metadata": {},
   "outputs": [],
   "source": [
    "df = df[df['body'].notna()]\n",
    "# Clean the markdowns from the text\n",
    "df['cleaned_body'] = df['body'].map(redditcleaner.clean)"
   ]
  },
  {
   "cell_type": "code",
   "execution_count": 92,
   "metadata": {},
   "outputs": [],
   "source": [
    "from nltk.tokenize import TweetTokenizer\n",
    "from nltk.corpus import stopwords\n",
    "import string\n",
    "import validators\n",
    "\n",
    "stop_words = list(set(stopwords.words('english')))\n",
    "stop_words += [\"'s\", \"'t\", 'r', \"n\\'t\"]\n",
    "\n",
    "def preProcess(sentence):\n",
    "    words = str(sentence).lower()\n",
    "    words = words.replace('(','').replace(')','')\n",
    "    words = words.split()\n",
    "    not_url = [word for word in words if not validators.url(word)]\n",
    "    without_stop_words = [word for word in not_url if not word in stop_words]\n",
    "    no_punc = [word for word in without_stop_words if not word in string.punctuation]\n",
    "    not_one = [word for word in no_punc if not len(word)== 1]\n",
    "    final =  ' '.join(not_one)\n",
    "    for punc in string.punctuation:\n",
    "        final = final.replace(punc,'')\n",
    "    return final"
   ]
  },
  {
   "cell_type": "code",
   "execution_count": 94,
   "metadata": {
    "scrolled": true
   },
   "outputs": [],
   "source": [
    "df['processed'] = df['cleaned_body'].apply(lambda x: preProcess(x))"
   ]
  },
  {
   "cell_type": "code",
   "execution_count": 96,
   "metadata": {},
   "outputs": [
    {
     "name": "stdout",
     "output_type": "stream",
     "text": [
      "279682\n",
      "279682\n"
     ]
    }
   ],
   "source": [
    "df = df.drop_duplicates('processed')"
   ]
  },
  {
   "cell_type": "markdown",
   "metadata": {},
   "source": [
    "## Save the processed text"
   ]
  },
  {
   "cell_type": "code",
   "execution_count": 99,
   "metadata": {},
   "outputs": [],
   "source": [
    "with open('./pain_nostop.txt', \"w\") as my_output_file:\n",
    "    for line in df['processed'].values: \n",
    "        my_output_file.write(line+'\\n')\n",
    "    my_output_file.close()"
   ]
  },
  {
   "cell_type": "code",
   "execution_count": 100,
   "metadata": {},
   "outputs": [],
   "source": [
    "df.to_parquet('./pain_reddit_processed.parquet',engine='fastparquet')"
   ]
  }
 ],
 "metadata": {
  "kernelspec": {
   "display_name": "Python 3",
   "language": "python",
   "name": "python3"
  },
  "language_info": {
   "codemirror_mode": {
    "name": "ipython",
    "version": 3
   },
   "file_extension": ".py",
   "mimetype": "text/x-python",
   "name": "python",
   "nbconvert_exporter": "python",
   "pygments_lexer": "ipython3",
   "version": "3.6.9"
  }
 },
 "nbformat": 4,
 "nbformat_minor": 2
}

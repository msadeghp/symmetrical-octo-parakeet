{
 "cells": [
  {
   "cell_type": "markdown",
   "metadata": {},
   "source": [
    "# 1. Train multiple Doc2Vec models on the processed text"
   ]
  },
  {
   "cell_type": "code",
   "execution_count": null,
   "metadata": {},
   "outputs": [],
   "source": [
    "from gensim.models.doc2vec import Doc2Vec, TaggedDocument\n",
    "import pandas as pd"
   ]
  },
  {
   "cell_type": "code",
   "execution_count": 3,
   "metadata": {
    "scrolled": true
   },
   "outputs": [
    {
     "name": "stdout",
     "output_type": "stream",
     "text": [
      "25\n",
      "50\n",
      "75\n",
      "100\n",
      "125\n",
      "150\n",
      "175\n",
      "200\n",
      "225\n",
      "250\n",
      "275\n",
      "300\n"
     ]
    }
   ],
   "source": [
    "# train models with different vector sizes\n",
    "for vector_size in [100,200,300,400]:\n",
    "    \n",
    "    model = Doc2Vec(dbow_words= 1, dm=0, seed=1337, min_count=5, workers=15, vector_size=vector_size)\n",
    "    model.build_vocab(corpus_file='./pain_nostop.txt')\n",
    "\n",
    "    # train models with different epochs\n",
    "    for epoch in range(25,325,25):\n",
    "        print(f'{vector_size}: {epoch}')\n",
    "        model.train(corpus_file='./pain_nostop.txt', total_examples=model.corpus_count, \n",
    "                    total_words=model.corpus_total_words, epochs=epoch)\n",
    "        model.save(f'./Models/pain_nostop_vec_{vector_size}_epoch_{epoch}.model')"
   ]
  },
  {
   "cell_type": "code",
   "execution_count": null,
   "metadata": {},
   "outputs": [],
   "source": []
  }
 ],
 "metadata": {
  "kernelspec": {
   "display_name": "Python 3",
   "language": "python",
   "name": "python3"
  },
  "language_info": {
   "codemirror_mode": {
    "name": "ipython",
    "version": 3
   },
   "file_extension": ".py",
   "mimetype": "text/x-python",
   "name": "python",
   "nbconvert_exporter": "python",
   "pygments_lexer": "ipython3",
   "version": "3.6.9"
  }
 },
 "nbformat": 4,
 "nbformat_minor": 2
}

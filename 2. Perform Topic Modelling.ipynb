{
 "cells": [
  {
   "cell_type": "code",
   "execution_count": 1,
   "metadata": {},
   "outputs": [],
   "source": [
    "import pandas as pd\n",
    "import pickle\n",
    "import seaborn as sns\n",
    "import string\n",
    "import numpy as np\n",
    "sns.set_theme(style=\"darkgrid\")\n",
    "import matplotlib.pyplot as plt"
   ]
  },
  {
   "cell_type": "code",
   "execution_count": 2,
   "metadata": {},
   "outputs": [],
   "source": [
    "import nltk, math, codecs\n",
    "from gensim.models import Doc2Vec\n",
    "from sklearn.cluster import KMeans\n",
    "import re\n",
    "from tqdm.notebook import tqdm\n",
    "import numpy as np\n",
    "import pandas as pd\n",
    "from sklearn.feature_extraction.text import TfidfVectorizer, CountVectorizer\n",
    "from sklearn.metrics.pairwise import cosine_similarity\n",
    "import redditcleaner"
   ]
  },
  {
   "cell_type": "code",
   "execution_count": 27,
   "metadata": {},
   "outputs": [],
   "source": [
    "# load data\n",
    "df = pd.read_parquet('./all_migraine_processed.parquet')\n",
    "df = df.reset_index().drop('index',1)"
   ]
  },
  {
   "cell_type": "markdown",
   "metadata": {},
   "source": [
    "In this example, we perform topic modelling on a segment of the Reddit dataset. As a result, in the following code block, we save the indicies of the segmented data. We will later use these indicies when calling the vector embeddings of the segemented data."
   ]
  },
  {
   "cell_type": "code",
   "execution_count": 4,
   "metadata": {},
   "outputs": [],
   "source": [
    "original_indicies = df[(df['subreddit']=='relationships') | (df['subreddit']=='relationship_advice')].index\n",
    "lines = df[(df['subreddit']=='relationships') | (df['subreddit']=='relationship_advice')].noKeyword.values"
   ]
  },
  {
   "cell_type": "code",
   "execution_count": 6,
   "metadata": {},
   "outputs": [],
   "source": [
    "# Calculate the cosine similarity of each document vector with a topic's centroid\n",
    "def getCloseness(labels, vectors, centroids):\n",
    "    document_closeness = list(range(len(labels)))\n",
    "    for cluster, centroid in enumerate(centroids):\n",
    "        indicies = [i for i in range(len(labels)) if labels[i] == cluster] #indicies of items in the cluster\n",
    "        for index in indicies:\n",
    "            document_closeness[index] = 1 - distance.cosine(centroid, vectors[index])\n",
    "    return document_closeness"
   ]
  },
  {
   "cell_type": "code",
   "execution_count": 7,
   "metadata": {},
   "outputs": [],
   "source": [
    "# Identify the most n frequent bigrams and trigrams\n",
    "def frequentNgrams(tokens,n=20):\n",
    "        vec = CountVectorizer(lowercase=False,ngram_range=(2,3)).fit(tokens)\n",
    "        bag_of_words = vec.transform(tokens)\n",
    "        sum_words = bag_of_words.sum(axis=0) \n",
    "        words_freq = [(word, sum_words[0, idx]) for word, idx in vec.vocabulary_.items()]\n",
    "        words_freq =sorted(words_freq, key = lambda x: x[1], reverse=True)\n",
    "        return words_freq[:n]"
   ]
  },
  {
   "cell_type": "code",
   "execution_count": 9,
   "metadata": {},
   "outputs": [],
   "source": [
    "# Identify the top n bigrams and trigrams having the highest TF-IDF score (the most important ones)\n",
    "def tfidfNgrams(tokens,n=20):\n",
    "        vec = TfidfVectorizer(lowercase=False,ngram_range=(2,3),norm='l2').fit(tokens)\n",
    "        bag_of_words = vec.transform(tokens)\n",
    "        sum_words = bag_of_words.sum(axis=0) \n",
    "        words_freq = [(word, sum_words[0, idx]) for word, idx in vec.vocabulary_.items()]\n",
    "        words_freq =sorted(words_freq, key = lambda x: x[1], reverse=True)\n",
    "        return words_freq[:n]"
   ]
  },
  {
   "cell_type": "markdown",
   "metadata": {},
   "source": [
    "## Identify the best topic number"
   ]
  },
  {
   "cell_type": "markdown",
   "metadata": {},
   "source": [
    "Perform quick topic modellings to identify the best number of topics"
   ]
  },
  {
   "cell_type": "code",
   "execution_count": 10,
   "metadata": {},
   "outputs": [
    {
     "name": "stderr",
     "output_type": "stream",
     "text": [
      "/home/msparsa2/.local/lib/python3.6/site-packages/numba/core/errors.py:154: UserWarning: Insufficiently recent colorama version found. Numba requires colorama >= 0.3.9\n",
      "  warnings.warn(msg)\n"
     ]
    }
   ],
   "source": [
    "import torch\n",
    "import numpy as np\n",
    "from kmeans_pytorch import kmeans, kmeans_predict\n",
    "import time\n",
    "from fast_pytorch_kmeans import KMeans\n",
    "\n",
    "def perform_quick_topic_modelling(epoch,size=100,_range=range(5,110,5),lines=lines):\n",
    "    model_path = f'./Models/pain_nostop_vec_{size}_epoch_{epoch}.model'\n",
    "    scores = {}\n",
    "    vectors = []\n",
    "    model = Doc2Vec.load(model_path)\n",
    "    \n",
    "    \n",
    "#     Infer Doc2Vec vectors\n",
    "    for i, t in enumerate(original_indicies):\n",
    "        vectors.append(model.dv.get_vector(t, norm=True))\n",
    "    \n",
    "#     clustering for different k numebrs\n",
    "    for k in _range:\n",
    "        \n",
    "        kmeans = KMeans(n_clusters=k, mode='cosine') \n",
    "        labels = kmeans.fit_predict(torch.Tensor(vectors)) \n",
    "        labels = np.array(labels) \n",
    "        centroids = np.array(kmeans.centroids)\n",
    "         \n",
    "        # calculate the relatedness score of k topics    \n",
    "        scores[k] = get_quick_centroid_words(centroids, model,1000,lines,labels) \n",
    "        \n",
    "        print(f'Clustering  Model {str(epoch)} with k={str(k)}, size={size}, score={str(scores[k])}')\n",
    "    return scores"
   ]
  },
  {
   "cell_type": "code",
   "execution_count": 11,
   "metadata": {},
   "outputs": [],
   "source": [
    "# calculate the relatedness score of topics \n",
    "def get_quick_centroid_words(centroids, doc2vec_model, max_tfidf_features, lines, labels):\n",
    "    \n",
    "#     number of words for describing a topic\n",
    "    topics_num = 10\n",
    "    \n",
    "    cluster_posts = []\n",
    "    for cluster, centroid_vector in enumerate(centroids):\n",
    "        indicies = [i for i in range(len(labels)) if labels[i] == cluster] #indicies of items in the cluster\n",
    "        cluster_posts.append(' '.join([lines[i] for i in indicies])) # join all the documents of a topic into one doscument\n",
    "    \n",
    "    #     ### create a TF-IDF matrix from the joint documents\n",
    "    vectorizer = TfidfVectorizer(stop_words=stopwords, max_features=max_tfidf_features)\n",
    "    tfidf_matrix = vectorizer.fit_transform(cluster_posts)\n",
    "    features = vectorizer.get_feature_names()\n",
    "\n",
    "    ### Combined score\n",
    "    clusters = []\n",
    "    weights = []\n",
    "    words = []\n",
    "    \n",
    "    words_of_model = list(doc2vec_model.wv.index_to_key)\n",
    "    for cluster, centroid_vector in enumerate(centroids):\n",
    "        \n",
    "        indicies = [i for i in range(len(labels)) if labels[i] == cluster] #indicies of items in the cluster\n",
    "        \n",
    "        cluster_tfidf_matrix = tfidf_matrix[cluster]\n",
    "        \n",
    "        for word, score in zip(features, cluster_tfidf_matrix.toarray()[0]): \n",
    "            # calculate the relatedness score of each word by multiplying its TF-IDF score and \n",
    "#              its cosine similarity with the topic's centroid\n",
    "\n",
    "            if word in words_of_model: \n",
    "                similarity = 1 - distance.cosine(centroid_vector, doc2vec_model[word]) \n",
    "\n",
    "                weight = score * similarity\n",
    "                words.append(word)\n",
    "                clusters.append(cluster)\n",
    "                weights.append(weight)\n",
    "\n",
    "    scoreDF = pd.DataFrame({'cluster': clusters, 'weight': weights, 'word': words})\n",
    "    c_score= []\n",
    "    descriptors = []\n",
    "    for cluster, _ in enumerate(centroids):\n",
    "        vals = scoreDF[scoreDF['cluster']==cluster].nlargest(topics_num,'weight')['weight'].values\n",
    "        c_score.append(sum(vals) / topics_num) \n",
    "        \n",
    "        descriptors.extend(scoreDF[scoreDF['cluster']==cluster].nlargest(topics_num,'weight')['word'].values)\n",
    "          \n",
    "    return np.mean(c_score) * (len(list(set(descriptors))) / len(descriptors))\n",
    "#     return np.mean(c_score)"
   ]
  },
  {
   "cell_type": "markdown",
   "metadata": {},
   "source": [
    "The following methods follow the same approach as the previous ones. The only difference is that the following functions provide outcomes for interpreting the topics, such as the most inportant topic descriptors, the most frequent bigrams and trigrams, and the closest documents to each post."
   ]
  },
  {
   "cell_type": "code",
   "execution_count": 12,
   "metadata": {},
   "outputs": [],
   "source": [
    "import pandas as pd\n",
    "from nltk.corpus import stopwords\n",
    "from sklearn.feature_extraction.text import TfidfVectorizer\n",
    "import numpy as np\n",
    "from scipy.spatial import distance\n",
    "\n",
    "# Set stopwords\n",
    "stopwords = list(set(stopwords.words('english')))\n",
    "stopwords += [\"'s\", \"'t\", 'r', \"n\\'t\"]\n",
    "\n",
    "\n",
    "def get_centroid_words(centroids, doc2vec_model, max_features, lines,labels):\n",
    "\n",
    "    cluster_lines = []\n",
    "    for cluster, centroid_vector in enumerate(centroids):\n",
    "        indicies = [i for i in range(len(labels)) if labels[i] == cluster] #indexes of items in the cluster\n",
    "\n",
    "        cluster_lines.append(' '.join([lines[i] for i in indicies]))\n",
    "    \n",
    "    #     ### TF-IDF matrix\n",
    "    vectorizer = TfidfVectorizer(stop_words=stopwords, max_features=max_features)\n",
    "    tfidf_matrix = vectorizer.fit_transform(cluster_lines)\n",
    "    features = vectorizer.get_feature_names()\n",
    "    \n",
    "    ### Combined score\n",
    "    clusters = []\n",
    "    words = []\n",
    "    weights = []\n",
    "    tfidfs = []\n",
    "    similarities = [] \n",
    "    ngrams = []\n",
    "    tfgrams = []\n",
    "    \n",
    "    for cluster, centroid_vector in enumerate(centroids):\n",
    "        \n",
    "        \n",
    "        indicies = [i for i in range(len(labels)) if labels[i] == cluster] #indexes of items in the cluster\n",
    "\n",
    "        cluster_tfidf_matrix = tfidf_matrix[cluster]\n",
    "        \n",
    "        grams = frequentNgrams([lines[i] for i in indicies], 20)\n",
    "        ngrams.append([(word,i) for word,i in grams ])\n",
    "        \n",
    "        fgrams = tfidfNgrams([lines[i] for i in indicies], 20)\n",
    "        tfgrams.append([(word,i) for word,i in fgrams ])\n",
    "        \n",
    "        \n",
    "        \n",
    "        for word, score in zip(features, cluster_tfidf_matrix.toarray()[0]):\n",
    "            if word in list(doc2vec_model.wv.index_to_key): \n",
    "                similarity = 1 - distance.cosine(centroid_vector, doc2vec_model[word])\n",
    "                \n",
    "                weight = score * similarity\n",
    "    \n",
    "                clusters.append(cluster)\n",
    "                words.append(word)\n",
    "                weights.append(weight)\n",
    "                tfidfs.append(score)\n",
    "                similarities.append(similarity)\n",
    "\n",
    "\n",
    "    centroid_words = pd.DataFrame({'cluster': clusters, 'word': words, 'similarity': similarities,\n",
    "                                   'tfidf': tfidfs, 'weight': weights})\n",
    "\n",
    "    return centroid_words,tfidf_matrix, ngrams, tfgrams"
   ]
  },
  {
   "cell_type": "code",
   "execution_count": 13,
   "metadata": {},
   "outputs": [],
   "source": [
    "import numpy as np\n",
    "import torch\n",
    "import numpy as np\n",
    "import sklearn\n",
    "from kmeans_pytorch import kmeans, kmeans_predict\n",
    "import time\n",
    "from fast_pytorch_kmeans import KMeans\n",
    "np.random.seed(15)\n",
    "def perform_topic_modelling(epoch, k,lines,size):\n",
    "\n",
    "    model_path =  f'./Models/pain_nostop_vec_{size}_epoch_{epoch}.model'\n",
    "    scores = {}\n",
    "    vectors = []\n",
    "    model = Doc2Vec.load(model_path)\n",
    "\n",
    "    vectors=[]\n",
    "    #     Infer Doc2Vec vectors\n",
    "    for i, t in enumerate(original_indicies):\n",
    "        vectors.append(model.dv.get_vector(t, norm=True))\n",
    "   \n",
    "    kmeans = KMeans(n_clusters=k, mode='cosine')\n",
    "    labels = kmeans.fit_predict(torch.Tensor(vectors))\n",
    "    labels = np.array(labels)\n",
    "    centroids = np.array(kmeans.centroids)    \n",
    "    \n",
    "    print('Clustering  Model',str(epoch),' with k =',str(k))\n",
    "\n",
    "    \n",
    "    scoreDF,tfidf_matrix, ngrams, tfgrams = get_centroid_words(centroids , model,1000,lines,labels) \n",
    "    \n",
    "    topics = []\n",
    "    for cluster in range(0,k):\n",
    "        topics.append(f'{cluster}: '+', '.join(scoreDF[scoreDF['cluster']==cluster].nlargest(10,'weight')['word'].values))\n",
    "    \n",
    "    tengrams = []\n",
    "    for cluster in range(0,k):\n",
    "        tengrams.append(f'{cluster}: '+ ', '.join([f'{i[0]}({i[1]})' for i in ngrams[cluster]]))\n",
    "    \n",
    "    \n",
    "    document_closeness = getCloseness(labels,vectors,centroids)\n",
    "    \n",
    "    clossest_docs = []\n",
    "    for cluster in range(0,k):\n",
    "        clossest_docs.append(model.docvecs.most_similar([centroids[cluster]],topn=300))\n",
    "    \n",
    "    \n",
    "    tweets = pd.DataFrame(([lines,labels,document_closeness,original_indicies])).transpose().rename({0:'tweet',1:'topic',2:'closeness',3:'original_index'},axis=1)\n",
    "    return topics, tweets,scoreDF,tfidf_matrix,tengrams, tfgrams,centroids,clossest_docs"
   ]
  },
  {
   "cell_type": "markdown",
   "metadata": {},
   "source": [
    "## Find the Best K"
   ]
  },
  {
   "cell_type": "code",
   "execution_count": 14,
   "metadata": {},
   "outputs": [],
   "source": [
    "import pandas as pd\n",
    "import pickle\n",
    "import seaborn as sns\n",
    "import numpy as np\n",
    "sns.set_theme(style=\"whitegrid\")\n",
    "import matplotlib.pyplot as plt"
   ]
  },
  {
   "cell_type": "code",
   "execution_count": 15,
   "metadata": {
    "scrolled": true
   },
   "outputs": [
    {
     "data": {
      "application/vnd.jupyter.widget-view+json": {
       "model_id": "4b3d78ac06544b14822168afa1a8a381",
       "version_major": 2,
       "version_minor": 0
      },
      "text/plain": [
       "  0%|          | 0/4 [00:00<?, ?it/s]"
      ]
     },
     "metadata": {},
     "output_type": "display_data"
    },
    {
     "name": "stdout",
     "output_type": "stream",
     "text": [
      "Clustering  Model 25 with k=5, score=0.07058033224280329\n",
      "Clustering  Model 25 with k=10, score=0.07390817598824792\n",
      "Clustering  Model 25 with k=15, score=0.06587557164551532\n",
      "Clustering  Model 25 with k=20, score=0.06197660981648499\n",
      "Clustering  Model 25 with k=25, score=0.05446027958216142\n",
      "Clustering  Model 25 with k=30, score=0.05211191119587186\n",
      "Clustering  Model 25 with k=35, score=0.052688741963790905\n",
      "Clustering  Model 25 with k=40, score=0.051519612266346895\n",
      "Clustering  Model 25 with k=45, score=0.04739579868210805\n",
      "Clustering  Model 25 with k=50, score=0.0492595716948899\n",
      "Clustering  Model 25 with k=55, score=0.04179437794387789\n",
      "Clustering  Model 25 with k=60, score=0.041898690292627994\n",
      "Clustering  Model 25 with k=65, score=0.041636350360139726\n",
      "Clustering  Model 25 with k=70, score=0.03962405278532661\n",
      "Clustering  Model 25 with k=75, score=0.037797231186444964\n",
      "Clustering  Model 25 with k=80, score=0.03970414024272305\n",
      "Clustering  Model 25 with k=85, score=0.038603693571054025\n",
      "Clustering  Model 25 with k=90, score=0.03879112431257045\n",
      "Clustering  Model 25 with k=95, score=0.034589866269218596\n",
      "Clustering  Model 25 with k=100, score=0.035073206949116746\n",
      "Clustering  Model 25 with k=105, score=0.03509520532081306\n",
      "Clustering  Model 50 with k=5, score=0.07579131751410857\n",
      "Clustering  Model 50 with k=10, score=0.0719797253039281\n",
      "Clustering  Model 50 with k=15, score=0.06080392284055023\n",
      "Clustering  Model 50 with k=20, score=0.054842143165479494\n",
      "Clustering  Model 50 with k=25, score=0.06045230235237939\n",
      "Clustering  Model 50 with k=30, score=0.04867816582571873\n",
      "Clustering  Model 50 with k=35, score=0.04317057526662958\n",
      "Clustering  Model 50 with k=40, score=0.04222083391493865\n",
      "Clustering  Model 50 with k=45, score=0.044528734481758876\n",
      "Clustering  Model 50 with k=50, score=0.0393896445743861\n",
      "Clustering  Model 50 with k=55, score=0.038588990395142846\n",
      "Clustering  Model 50 with k=60, score=0.03552631083972336\n",
      "Clustering  Model 50 with k=65, score=0.03729901516009266\n",
      "Clustering  Model 50 with k=70, score=0.03520022058932784\n",
      "Clustering  Model 50 with k=75, score=0.03467022165867097\n",
      "Clustering  Model 50 with k=80, score=0.033406694199298946\n",
      "Clustering  Model 50 with k=85, score=0.032117026777375046\n",
      "Clustering  Model 50 with k=90, score=0.03181270294375863\n",
      "Clustering  Model 50 with k=95, score=0.029201222561164808\n",
      "Clustering  Model 50 with k=100, score=0.029716636350013557\n",
      "Clustering  Model 50 with k=105, score=0.030475228278648833\n",
      "Clustering  Model 75 with k=5, score=0.07044929130116849\n",
      "Clustering  Model 75 with k=10, score=0.06121066955570158\n",
      "Clustering  Model 75 with k=15, score=0.05553990254791764\n",
      "Clustering  Model 75 with k=20, score=0.04984092137658997\n",
      "Clustering  Model 75 with k=25, score=0.050792179390243594\n",
      "Clustering  Model 75 with k=30, score=0.04907377015957306\n",
      "Clustering  Model 75 with k=35, score=0.04550775534736978\n",
      "Clustering  Model 75 with k=40, score=0.04006277261767231\n",
      "Clustering  Model 75 with k=45, score=0.036864977452187045\n",
      "Clustering  Model 75 with k=50, score=0.03863418538432697\n",
      "Clustering  Model 75 with k=55, score=0.034372124579699855\n",
      "Clustering  Model 75 with k=60, score=0.03482084400836104\n",
      "Clustering  Model 75 with k=65, score=0.03295835498403976\n",
      "Clustering  Model 75 with k=70, score=0.033678145994943946\n",
      "Clustering  Model 75 with k=75, score=0.03136448480803325\n",
      "Clustering  Model 75 with k=80, score=0.02990907073111817\n",
      "Clustering  Model 75 with k=85, score=0.029889490004032272\n",
      "Clustering  Model 75 with k=90, score=0.030036786446327693\n",
      "Clustering  Model 75 with k=95, score=0.0271381112423634\n",
      "Clustering  Model 75 with k=100, score=0.027843215901137326\n",
      "Clustering  Model 75 with k=105, score=0.02762401371905233\n",
      "Clustering  Model 100 with k=5, score=0.06933640963337726\n",
      "Clustering  Model 100 with k=10, score=0.06103306534484895\n",
      "Clustering  Model 100 with k=15, score=0.05710495411378809\n",
      "Clustering  Model 100 with k=20, score=0.0476936071524456\n",
      "Clustering  Model 100 with k=25, score=0.04401972129157443\n",
      "Clustering  Model 100 with k=30, score=0.040628985082323675\n",
      "Clustering  Model 100 with k=35, score=0.03684423397854296\n",
      "Clustering  Model 100 with k=40, score=0.03538254422464888\n",
      "Clustering  Model 100 with k=45, score=0.03681841547949317\n",
      "Clustering  Model 100 with k=50, score=0.0336142726236705\n",
      "Clustering  Model 100 with k=55, score=0.03230171243141845\n",
      "Clustering  Model 100 with k=60, score=0.03134079966337821\n",
      "Clustering  Model 100 with k=65, score=0.030877510879956136\n",
      "Clustering  Model 100 with k=70, score=0.03181623170166236\n",
      "Clustering  Model 100 with k=75, score=0.029981278991091365\n",
      "Clustering  Model 100 with k=80, score=0.025784558044345353\n",
      "Clustering  Model 100 with k=85, score=0.026799289777687273\n",
      "Clustering  Model 100 with k=90, score=0.02868763381370519\n",
      "Clustering  Model 100 with k=95, score=0.027205591626248735\n",
      "Clustering  Model 100 with k=100, score=0.02690719078753101\n",
      "Clustering  Model 100 with k=105, score=0.02522392553355294\n"
     ]
    },
    {
     "data": {
      "image/png": "[encoded data removed]",
      "text/plain": [
       "<Figure size 900x360 with 2 Axes>"
      ]
     },
     "metadata": {},
     "output_type": "display_data"
    }
   ],
   "source": [
    "model_topic_scores = {}\n",
    "for epoch in tqdm(range(25,125,25)):\n",
    "    epoch_model_score = perform_quick_topic_modelling(epoch,lines=no_cov_lines)\n",
    "    model_topic_scores[epoch] = epoch_model_score\n",
    "    \n",
    "rows = []\n",
    "for epoch, dic in model_topic_scores.items():\n",
    "    for cluster, score in dic.items():\n",
    "\n",
    "            row = {}\n",
    "            row['epoch'] = epoch\n",
    "            row['cluster'] = cluster\n",
    "            row['score'] = score\n",
    "            rows.append(row)\n",
    "\n",
    "df2 = pd.DataFrame(rows)\n",
    "\n",
    "fig, axs = plt.subplots(ncols=2)\n",
    "sns.color_palette(\"tab10\")\n",
    "fig.set_figwidth(12.5)\n",
    "fig.set_figheight(5)\n",
    "sns.lineplot(x=\"cluster\", y=\"score\", hue=\"epoch\", data=df2, ax=axs[0])\n",
    "# Put the legend out of the figure\n",
    "# axs[0].legend(bbox_to_anchor=(1.05, 1), loc=2, borderaxespad=0.)\n",
    "sns.lineplot(x=\"cluster\", y=\"score\",  hue=\"epoch\", data=df2.query(\"epoch==25\"), ax=axs[1],palette=sns.cubehelix_palette(light=.2, n_colors=1))\n",
    "axs[0].grid(False)\n",
    "axs[1].grid(False)\n",
    "plt.show()"
   ]
  },
  {
   "cell_type": "markdown",
   "metadata": {},
   "source": [
    "## Perform Topic Modelling"
   ]
  },
  {
   "cell_type": "markdown",
   "metadata": {},
   "source": [
    "Identify the best number of epochs, vector size, and k from the results above, and then enter the values below:"
   ]
  },
  {
   "cell_type": "code",
   "execution_count": 14,
   "metadata": {},
   "outputs": [
    {
     "name": "stdout",
     "output_type": "stream",
     "text": [
      "Clustering  Model 25  with k = 10\n"
     ]
    },
    {
     "name": "stderr",
     "output_type": "stream",
     "text": [
      "/home/msparsa2/.local/lib/python3.6/site-packages/ipykernel_launcher.py:44: DeprecationWarning: Call to deprecated `docvecs` (The `docvecs` property has been renamed `dv`.).\n"
     ]
    },
    {
     "data": {
      "text/plain": [
       "['0: say, someone, understand, post, medical, op, need, tell, saying, said',\n",
       " '1: relationship, life, family, parents, always, mom, health, friends, depression, job',\n",
       " '2: meds, medication, doctor, taking, headaches, prescribed, thing, chronic, try, life',\n",
       " '3: food, smell, eat, trigger, triggers, give, someone, diet, drink, headaches',\n",
       " '4: doctor, headaches, symptoms, brain, cause, thing, neurologist, may, head, sometimes',\n",
       " '5: relationship, friends, told, said, friend, together, wanted, talk, boyfriend, asked',\n",
       " '6: birth, control, pill, bc, hormonal, doctor, sex, pills, period, risk',\n",
       " '7: home, house, mom, told, said, parents, dad, sister, us, job',\n",
       " '8: need, someone, relationship, needs, partner, care, husband, say, person, life',\n",
       " '9: someone, husband, say, tell, sick, shit, need, said, care, let']"
      ]
     },
     "execution_count": 14,
     "metadata": {},
     "output_type": "execute_result"
    }
   ],
   "source": [
    "topics, tweets,scoreDF,tfidf_matrix,tengrams,tfgrams,centroids,clossest_docs = perform_topic_modelling(25,k=10,lines=no_cov_lines,size=100)\n",
    "topics"
   ]
  },
  {
   "cell_type": "code",
   "execution_count": 15,
   "metadata": {},
   "outputs": [
    {
     "name": "stdout",
     "output_type": "stream",
     "text": [
      "Topic descriptors: say, someone, understand, post, medical, op, need, tell, saying, said\n",
      "Topic descriptors: relationship, life, family, parents, always, mom, health, friends, depression, job\n",
      "Topic descriptors: meds, medication, doctor, taking, headaches, prescribed, thing, chronic, try, life\n",
      "Topic descriptors: food, smell, eat, trigger, triggers, give, someone, diet, drink, headaches\n",
      "Topic descriptors: doctor, headaches, symptoms, brain, cause, thing, neurologist, may, head, sometimes\n",
      "Topic descriptors: relationship, friends, told, said, friend, together, wanted, talk, boyfriend, asked\n",
      "Topic descriptors: birth, control, pill, bc, hormonal, doctor, sex, pills, period, risk\n",
      "Topic descriptors: home, house, mom, told, said, parents, dad, sister, us, job\n",
      "Topic descriptors: need, someone, relationship, needs, partner, care, husband, say, person, life\n",
      "Topic descriptors: someone, husband, say, tell, sick, shit, need, said, care, let\n"
     ]
    }
   ],
   "source": [
    "n=[print('Topic descriptors: '+word.split(': ')[1]) for word in topics]"
   ]
  },
  {
   "cell_type": "markdown",
   "metadata": {},
   "source": [
    "## Interpret the results"
   ]
  },
  {
   "cell_type": "code",
   "execution_count": 16,
   "metadata": {},
   "outputs": [],
   "source": [
    "sizes = tweets.groupby('topic').count()['tweet'].values\n",
    "prcg_sizes = [round(word*100/sum(sizes),1) for word in sizes]"
   ]
  },
  {
   "cell_type": "code",
   "execution_count": 19,
   "metadata": {
    "scrolled": true
   },
   "outputs": [
    {
     "name": "stdout",
     "output_type": "stream",
     "text": [
      "Topic 0: #471 (7.8%)\n",
      "\u001b[1m--- Top topic descriptors (highest Relatedness score):\u001b[0m\n",
      "say, someone, understand, post, medical, op, need, tell, saying, said\n",
      "\u001b[1m--- Top temrs with the highest similary score:\u001b[0m\n",
      "understand, honest, saying, say, apologize, situation, excuse, obviously, rude, sorry\n",
      "\u001b[1m--- Top temrs with the highest TFIDF score:\u001b[0m\n",
      "say, someone, post, medical, need, op, understand, sick, said, doctor\n",
      "\u001b[1m--- Top Frequent ngrams:\u001b[0m\n",
      "0: mental health, medical issue, medical issues, doctors note, someone else, young man, mental illness, medical condition, auditory hallucinations, health issues, call sick, red flag, makes sense, chronic illness, drug addict, cluster headaches, psychotic disorder, give advice, edit post, trying figure\n",
      "\u001b[1m--- Top TFIDF ngrams:\u001b[0m\n",
      "medical issue, til word, word migraineur, migraineur sorry, sorry suffering, til word migraineur, word migraineur sorry, migraineur sorry suffering, childrens books, took second, second quip, quip thought, thought meant, meant end, end thinking, thinking better, took second quip, second quip thought, quip thought meant, thought meant end\n",
      "\u001b[1mTop three Exampless:\u001b[0m\n",
      "['I have no idea what you just said but im not going to have a migraine trying to so im apretend like i do understand it', 'Someone edit it to say suffering from a migraine', 'I understand and am sorry about your migraine, I agree with you now! ']\n",
      "--------------------------------\n",
      "\n",
      "Topic 1: #587 (9.8%)\n",
      "\u001b[1m--- Top topic descriptors (highest Relatedness score):\u001b[0m\n",
      "relationship, life, family, parents, always, mom, health, friends, depression, job\n",
      "\u001b[1m--- Top temrs with the highest similary score:\u001b[0m\n",
      "relationship, abusive, emotionally, partner, marriage, parents, relationships, divorce, boyfriend, selfish\n",
      "\u001b[1m--- Top temrs with the highest TFIDF score:\u001b[0m\n",
      "life, relationship, always, family, health, issues, told, depression, love, need\n",
      "\u001b[1m--- Top Frequent ngrams:\u001b[0m\n",
      "1: mental health, health issues, depression anxiety, high school, months ago, anxiety depression, panic attacks, best friend, mental illness, health problems, many times, year old, taking care, someone else, two weeks, long term, mental health issues, fell love, started dating, two months\n",
      "\u001b[1m--- Top TFIDF ngrams:\u001b[0m\n",
      "health issues, panic attacks, shmuck child, chronic daily, daily held, held job, job graduated, graduated phd, phd program, program sorts, sorts life, life past, chronic daily held, daily held job, held job graduated, job graduated phd, graduated phd program, phd program sorts, program sorts life, sorts life past\n",
      "\u001b[1mTop three Exampless:\u001b[0m\n",
      "[\"I have chronic migraine.  I've stopped even trying to have a relationship.  You're not alone.  \", \"My family is solid, my job is really great. But I'm in a relationship with someone 20 years older than me that doesn't mean to be but he is pretty emotionally abusive. I've been with him for 4 years and I don't drive because of my anxiety and chronic migraines. I just can't see a way out. I'm 26 and feel like this is my life and I'm stuck forever now. \", \"I always get migraines from oils...totally didn't realize it was just from my abandonment issues!\"]\n",
      "--------------------------------\n",
      "\n",
      "Topic 2: #490 (8.2%)\n",
      "\u001b[1m--- Top topic descriptors (highest Relatedness score):\u001b[0m\n",
      "meds, medication, doctor, taking, headaches, prescribed, thing, chronic, try, life\n",
      "\u001b[1m--- Top temrs with the highest similary score:\u001b[0m\n",
      "medication, meds, prescribed, medications, though, unfortunately, works, drugs, taking, either\n",
      "\u001b[1m--- Top temrs with the highest TFIDF score:\u001b[0m\n",
      "meds, doctor, medication, taking, headaches, prescribed, thing, chronic, life, side\n",
      "\u001b[1m--- Top Frequent ngrams:\u001b[0m\n",
      "2: side effects, cluster headaches, side effect, rebound headaches, long term, talk doctor, health issues, hope find, blood pressure, taking magnesium, daily preventative, started taking, big deal, preventative medication, trial error, went away, times week, botox injections, prescribed meds, different meds\n",
      "\u001b[1m--- Top TFIDF ngrams:\u001b[0m\n",
      "opioids exacerbate, exacerbate issues, issues recommended, opioids exacerbate issues, exacerbate issues recommended, cluster headaches, blood sugar, shit made, topamax couple, couple months, months times, times week, week shit, topamax couple months, couple months times, months times week, times week shit, week shit made, went month, straight edge\n",
      "\u001b[1mTop three Exampless:\u001b[0m\n",
      "['What medication is helping? I tried one migraine medication and it didn’t help.', 'Chronic migraine preventative medication. ', 'How often did you have migraines before taking any medication for them?']\n",
      "--------------------------------\n",
      "\n",
      "Topic 3: #418 (7.0%)\n",
      "\u001b[1m--- Top topic descriptors (highest Relatedness score):\u001b[0m\n",
      "food, smell, eat, trigger, triggers, give, someone, diet, drink, headaches\n",
      "\u001b[1m--- Top temrs with the highest similary score:\u001b[0m\n",
      "food, bother, smell, either, always, triggers, eat, trigger, avoid, whatever\n",
      "\u001b[1m--- Top temrs with the highest TFIDF score:\u001b[0m\n",
      "food, smell, eat, trigger, diet, give, use, headaches, someone, triggers\n",
      "\u001b[1m--- Top Frequent ngrams:\u001b[0m\n",
      "3: gluten free, makes sick, blood sugar, cluster headaches, wet hair, big deal, food triggers, red wine, cigarette smoke, refined carbs, gut bacteria, small amount, wearing perfume, light sensitivity, food eat, change diet, times week, tension headaches, food intolerances, scents trigger\n",
      "\u001b[1m--- Top TFIDF ngrams:\u001b[0m\n",
      "thinking christmas, christmas give, thinking christmas give, everybody gets, smoke pot, pot dad, dad related, related stress, stress joint, joint helps, helps ton, ton nausea, smoke pot dad, pot dad related, dad related stress, related stress joint, stress joint helps, joint helps ton, helps ton nausea, causes bet\n",
      "\u001b[1mTop three Exampless:\u001b[0m\n",
      "['Smells often give me a migraine.', 'I really like this stuff but the smell usually triggers a migraine 😫', 'That stuff all smells like migraine though.']\n",
      "--------------------------------\n",
      "\n",
      "Topic 4: #499 (8.3%)\n",
      "\u001b[1m--- Top topic descriptors (highest Relatedness score):\u001b[0m\n",
      "doctor, headaches, symptoms, brain, cause, thing, neurologist, may, head, sometimes\n",
      "\u001b[1m--- Top temrs with the highest similary score:\u001b[0m\n",
      "headaches, happening, debilitating, though, symptoms, happen, mine, serious, actually, suffer\n",
      "\u001b[1m--- Top temrs with the highest TFIDF score:\u001b[0m\n",
      "doctor, brain, symptoms, headaches, cause, head, thing, may, started, neurologist\n",
      "\u001b[1m--- Top Frequent ngrams:\u001b[0m\n",
      "4: blood pressure, cluster headaches, brain tumors, brain tumor, doctor said, brain injury, anything else, dark room, weight gain, brain fog, ct scan, light sensitivity, brain cancer, memory loss, panic attacks, went away, months ago, best luck, taken seriously, high school\n",
      "\u001b[1m--- Top TFIDF ngrams:\u001b[0m\n",
      "doctors full, full idk, idk mentioned, doctors full idk, full idk mentioned, condition insomnia, insomnia ibs, ibs exactly, exactly end, condition insomnia ibs, insomnia ibs exactly, ibs exactly end, cluster headaches, brain tumors, 3rd shift, physically sick, dealing chronic, chronic several, several concussions, concussions suck\n",
      "\u001b[1mTop three Exampless:\u001b[0m\n",
      "[\"The thing with migraines is you can get any or all of the symptoms and it's still a migraine. Sometimes I get all of the bad symptoms with no pain.\", 'Headaches and migraines can be a symptom, though. ', 'Will help with migraine, brain fog-dehydration symptoms.']\n",
      "--------------------------------\n",
      "\n",
      "Topic 5: #818 (13.6%)\n",
      "\u001b[1m--- Top topic descriptors (highest Relatedness score):\u001b[0m\n",
      "relationship, friends, told, said, friend, together, wanted, talk, boyfriend, asked\n",
      "\u001b[1m--- Top temrs with the highest similary score:\u001b[0m\n",
      "texting, boyfriend, girlfriend, friendship, bf, apologized, texted, partner, dating, texts\n",
      "\u001b[1m--- Top temrs with the highest TFIDF score:\u001b[0m\n",
      "said, told, relationship, friends, together, wanted, talk, night, friend, went\n",
      "\u001b[1m--- Top Frequent ngrams:\u001b[0m\n",
      "5: best friend, fast forward, months ago, high school, started dating, weeks ago, multiple times, two weeks, someone else, many times, best friends, mental health, say anything, social media, asked wanted, couple weeks, started talking, couple months, said wanted, big deal\n",
      "\u001b[1m--- Top TFIDF ngrams:\u001b[0m\n",
      "someone else, many times, feeling sick, romantic connection, friends family, answer question, jack jill, yeah boyfriend, boyfriend tried, tried juggle, juggle weekend, weekend came, came boyfriend, boyfriend stay, stay city, city nye, nye lie, lie enough, enough throughout, throughout weekend\n",
      "\u001b[1mTop three Exampless:\u001b[0m\n",
      "[\"I apologize in advance for the length of this. I just want to give context to our relationship up to this point and be as detailed as possible. Please bear with me, and if you don't want to, I don't blame you.\\n\\n&amp;#x200B;\\n\\nNew Years Eve of last year proved to unexpectedly be the night that changed my life as I knew it. I was at my favorite band's concert, and while checking out the merch booth, \", 'Hey Reddit, I still feel a little weird posting this online, but please forgive me for my poor writing skills. I’m trying to include as much backstory as I can to give the full image.\\n\\nB and I had been dating since September of 2016, when we were both starting Junior year in high school. She had liked me since November of the previous year, but I was in another relationship. We still talked but I ', '\\nWARNING: This ended up being incredibly long lmao but thanks for all that actually read the rambling.\\n\\nSo let me start this out with I am the (m) in this story, and well I am still incredibly in love with my ex, figured I would get some insight even though I already know what some of the answers will be, but I just want to have some other PoV on it. Yes I am still in love with her, I feel like sh']\n",
      "--------------------------------\n",
      "\n",
      "Topic 6: #366 (6.1%)\n",
      "\u001b[1m--- Top topic descriptors (highest Relatedness score):\u001b[0m\n",
      "birth, control, pill, bc, hormonal, doctor, sex, pills, period, risk\n",
      "\u001b[1m--- Top temrs with the highest similary score:\u001b[0m\n",
      "birth, hormonal, bc, control, pill, periods, pregnant, period, women, pills\n",
      "\u001b[1m--- Top temrs with the highest TFIDF score:\u001b[0m\n",
      "birth, control, pill, doctor, bc, sex, hormonal, pills, side, risk\n",
      "\u001b[1m--- Top Frequent ngrams:\u001b[0m\n",
      "6: birth control, side effects, hormonal birth, hormonal birth control, sex drive, risk stroke, copper iud, control pills, birth control pills, weight gain, mood swings, hormonal bc, use condoms, mini pill, depo shot, blood clots, talk doctor, stop taking, bc pills, side effect\n",
      "\u001b[1m--- Top TFIDF ngrams:\u001b[0m\n",
      "birth control, side effects, combined pill, mini pill, hormonal birth, hormonal birth control, regular periods, regularly pelvic, pelvic ovulation, ovulation followed, followed full, full periodlike, periodlike bleeding, bleeding weeks, weeks later, later while, while pill, regularly pelvic ovulation, pelvic ovulation followed, ovulation followed full\n",
      "\u001b[1mTop three Exampless:\u001b[0m\n",
      "[\"There's an IUD that doesn't have hormones. I have migraines and hormonal birth control made them so much more frequent, so that was a good option for me\", 'If you are a woman on birth control pills and have these aura migraines, talk to your doctor about other methods of contraceptives (IUD). This can put you at risk for a stroke.', \"Is it the combo pill? If so, progesterone only birth control methods shouldn't cause migraines.\"]\n",
      "--------------------------------\n",
      "\n",
      "Topic 7: #690 (11.5%)\n",
      "\u001b[1m--- Top topic descriptors (highest Relatedness score):\u001b[0m\n",
      "home, house, mom, told, said, parents, dad, sister, us, job\n",
      "\u001b[1m--- Top temrs with the highest similary score:\u001b[0m\n",
      "boyfriend, husband, parents, boyfriends, bf, girlfriend, roommate, partner, kids, mom\n",
      "\u001b[1m--- Top temrs with the highest TFIDF score:\u001b[0m\n",
      "home, said, told, house, mom, us, always, job, parents, went\n",
      "\u001b[1m--- Top Frequent ngrams:\u001b[0m\n",
      "7: year old, come home, came home, high school, video games, stay home, months ago, living room, around house, mental health, best friend, taking care, two weeks, big deal, multiple times, say anything, living together, many times, pay rent, coming home\n",
      "\u001b[1m--- Top TFIDF ngrams:\u001b[0m\n",
      "station asked, asked said, said literally, literally minute, minute walk, walk away, station asked said, asked said literally, said literally minute, literally minute walk, minute walk away, fiance nasal, nasal passages, passages widened, widened previously, previously chronic, chronic windowrattling, windowrattling snores, snores free, free mild\n",
      "\u001b[1mTop three Exampless:\u001b[0m\n",
      "['Mom is home with a migraine, better help her.', 'My dad once told me \"this is why everyone hates you, and everyone you are ever going to meet will hate you.\" When I didn\\'t have laundry put up on time because I had a migraine and had to babysit his kids all day while mom was at a neighbor\\'s house watching tv.', 'I have not had a migraine since the day I told my husband I was going to divorce him.']\n",
      "--------------------------------\n",
      "\n",
      "Topic 8: #877 (14.6%)\n",
      "\u001b[1m--- Top topic descriptors (highest Relatedness score):\u001b[0m\n",
      "need, someone, relationship, needs, partner, care, husband, say, person, life\n",
      "\u001b[1m--- Top temrs with the highest similary score:\u001b[0m\n",
      "partner, selfish, responsibility, boundaries, deserve, situation, supportive, fault, relationship, needs\n",
      "\u001b[1m--- Top temrs with the highest TFIDF score:\u001b[0m\n",
      "need, someone, relationship, needs, life, say, care, husband, thing, right\n",
      "\u001b[1m--- Top Frequent ngrams:\u001b[0m\n",
      "8: mental health, year old, taking care, side effects, someone else, health issues, chronic illness, find someone, long term, medical issues, big deal, birth control, many times, mental illness, sex drive, couples counseling, anyone else, best luck, keep mind, need talk\n",
      "\u001b[1m--- Top TFIDF ngrams:\u001b[0m\n",
      "responsibility health, medication causes, causes unwilling, unwilling ithow, ithow exactly, exactly situation, situation temporary, temporary need, need let, let poor, poor guy, medication causes unwilling, causes unwilling ithow, unwilling ithow exactly, ithow exactly situation, exactly situation temporary, situation temporary need, temporary need let, need let poor, let poor guy\n",
      "\u001b[1mTop three Exampless:\u001b[0m\n",
      "['Why not just bring up him lacking in the physical intimacy department...I understand he gets migraines but, you have needs too and he needs to understand that', 'Talk to your husband. He kind of accused your son of maybe being an abuser... \\nDiscuss trust? Try to understand why it was such a big deal. \\n\\nAlso, your husband should be more respectful of your health with the migraine..', 'NTA. I feel for your girlfriend and what she has to deal with, but it’s unfair to expect you to drop everything every time she has a migraine. Being there for her is important, but you have to take care of yourself as well. Have you considered talking with her and explaining this so she can better understand why it’s unfair?']\n",
      "--------------------------------\n",
      "\n",
      "Topic 9: #788 (13.1%)\n",
      "\u001b[1m--- Top topic descriptors (highest Relatedness score):\u001b[0m\n",
      "someone, husband, say, tell, sick, shit, need, said, care, let\n",
      "\u001b[1m--- Top temrs with the highest similary score:\u001b[0m\n",
      "selfish, asshole, rude, angry, annoyed, pissed, fault, excuse, fucking, boyfriend\n",
      "\u001b[1m--- Top temrs with the highest TFIDF score:\u001b[0m\n",
      "someone, husband, say, need, said, sick, right, tell, care, thing\n",
      "\u001b[1m--- Top Frequent ngrams:\u001b[0m\n",
      "9: year old, someone else, red flag, find someone, deserve better, nothing wrong, big deal, deal breaker, dark room, say anything, dump him, trying sleep, came home, stay home, let alone, taking care, someone suffers, around house, holy shit, right away\n",
      "\u001b[1m--- Top TFIDF ngrams:\u001b[0m\n",
      "logic odd, odd sex, sex husband, husband look, logic odd sex, odd sex husband, sex husband look, thought roommate, roommate waking, waking tell, tell imhavingananeurysm, imhavingananeurysm regular, thought roommate waking, roommate waking tell, waking tell imhavingananeurysm, tell imhavingananeurysm regular, big deal, tell though, though upside, upside basis\n",
      "\u001b[1mTop three Exampless:\u001b[0m\n",
      "[\"My wife gets migraines. When she does, I try to help. I do not complain that I can't fuck her.\\n\\nYour husband is an inconsiderate asshole.\", 'People are assholes when they don\\'t understand something. Kind of like when I have a migraine and someone tells me it\\'s \"just\" a headache.\\n', 'Sounds like he has migraines, sucks for him.']\n",
      "--------------------------------\n",
      "\n"
     ]
    }
   ],
   "source": [
    "copydf = []\n",
    "for cluster in range(0,len(topics)):\n",
    "    data = {}\n",
    "    data['#'] = str(cluster+1)\n",
    "    data['topic descriptors and n-grams'] = ', '.join(scoreDF[scoreDF['cluster']==cluster].nlargest(10,'weight')['word'].values)\n",
    "    data['%'] = f'{sizes[cluster]}'\n",
    "    copydf.append(data)\n",
    "    data = {}\n",
    "    data['#'] = ''\n",
    "    data['%'] = f'{(prcg_sizes[cluster])}%'\n",
    "    data['topic descriptors and n-grams'] = ', '.join(re.sub(r'\\([^)]*\\)', '', tengrams[cluster]).split(', ')[:10]).split(': ')[1]\n",
    "    copydf.append(data)\n",
    "    print(f'Topic {cluster}: #{sizes[cluster]} ({prcg_sizes[cluster]}%)')\n",
    "    print('\\033[1m'+f'--- Top topic descriptors (highest Relatedness score):'+'\\033[0m')\n",
    "    print(', '.join(scoreDF[scoreDF['cluster']==cluster].nlargest(10,'weight')['word'].values))\n",
    "    \n",
    "    print('\\033[1m'+f'--- Top temrs with the highest similary score:'+'\\033[0m')\n",
    "    print(', '.join(scoreDF[scoreDF['cluster']==cluster].nlargest(10,'similarity')['word'].values))\n",
    "    \n",
    "    print('\\033[1m'+f'--- Top temrs with the highest TFIDF score:'+'\\033[0m')\n",
    "    print(', '.join(scoreDF[scoreDF['cluster']==cluster].nlargest(10,'tfidf')['word'].values))\n",
    "    \n",
    "    print('\\033[1m'+f'--- Top Frequent ngrams:'+'\\033[0m')\n",
    "    print(', '.join(re.sub(r'\\([^)]*\\)', '', tengrams[cluster]).split(', ')[:20]))\n",
    "    \n",
    "    print('\\033[1m'+f'--- Top TFIDF ngrams:'+'\\033[0m')\n",
    "    print(', '.join([word for word,i in tfidfNgrams(tweets[tweets['topic']== cluster]['tweet'][:20])]))\n",
    "    \n",
    "    print('\\033[1m'+f'Top three Exampless:'+'\\033[0m')\n",
    "    print([df.iloc[word].text[:400] for (word,i) in clossest_docs[cluster]][:3])\n",
    "    print('--------------------------------')\n",
    "    print()\n",
    "pd.DataFrame(copydf).to_clipboard()"
   ]
  },
  {
   "cell_type": "markdown",
   "metadata": {},
   "source": [
    "### An example to look at the documents with the most similarity to a topic (These doscuments can also come from other topics):"
   ]
  },
  {
   "cell_type": "code",
   "execution_count": 26,
   "metadata": {
    "scrolled": true
   },
   "outputs": [
    {
     "data": {
      "text/plain": [
       "[\"0.86 My wife gets migraines. When she does, I try to help. I do not complain that I can't fuck her.\\n\\nYour husband is an inconsiderate asshole.\",\n",
       " \"0.8 He sounds like a massive cunt. Just for screaming at you when he knows you've got a migraine.\\n\\nI have migraines too and this would fuck me right off.\\n\\nHe's a selfish, inconsiderate bastard.\",\n",
       " '0.8 Wow. You’re husband is an ass. You had a migraine. This is not ok. \\n\\nYou have every right to be upset.',\n",
       " \"0.8 He's obviously never had a migraine. Your son needs to stand up for himself, too. Husband obviously thinks he's a creep. NTA\",\n",
       " '0.8 My ex (yeah ... EX) used to be like that when I had a migraine. So selfish.',\n",
       " \"0.79 You should talk to your husband and see if he has a good reason. Make sure you ask him if there's anything he isn't telling you. If he doesn't have anything then it's probably just something he feels. But at the end of the day having a migraine is more than enough of a reason to have an almost adult son take care of his daughter.\",\n",
       " \"0.79 I know someone who gets convenient migraines.  You're in for a hell of a life.\",\n",
       " '0.79 How sweet &lt;3 meanwhile my partner just tried guilting and telling me that he has to go jerk off cuz me having a migraine is inconveniencing him oh so badly.. &gt;.&gt;',\n",
       " \"0.79 Hes letting you know it wont get that far\\n I'm sorry but he just doesnt love you. Telling you that even if you had a migraine they would still come in? Hes a jerk girl don't waste any more time\",\n",
       " '0.79 This is SO weird. Migraines are not fun. And the fact hes trying to give his wife, someone he cares about, the worst pain ever, just proves what kind of person he is. You need marriage counseling asap. Or leave him because hes fucking nuts and selfish. ',\n",
       " '0.79 I would be looking for a good divorce lawyer.  This man is cruel to yell at you when you are having a migraine. He disrespected your son.  I would never put up with that and you shouldn’t either.',\n",
       " '0.78 Your husband sounds like an asshole! There’s nothing wrong with a 16 year old babysitting and caring for a younger sibling. The fact he didn’t care that you had a migraine is very telling. Next time he calls out sick from work treat him like dog shit scream at him and tell him being sick is no excuse for not working! See how he likes it!']"
      ]
     },
     "execution_count": 26,
     "metadata": {},
     "output_type": "execute_result"
    }
   ],
   "source": [
    "topic = 9\n",
    "org = tweets[tweets['topic']== topic].original_index.values\n",
    "[f'{round(i,2)} '+df.iloc[word].text for (word,i) in clossest_docs[cluster] if word in org][:20] "
   ]
  },
  {
   "cell_type": "markdown",
   "metadata": {},
   "source": [
    "### An example to look at the documents withing a cluster that have the most similarity to that topic:"
   ]
  },
  {
   "cell_type": "code",
   "execution_count": 25,
   "metadata": {},
   "outputs": [],
   "source": [
    "tweets = t['tweets'].sort_values('closeness',ascending=False)"
   ]
  },
  {
   "cell_type": "code",
   "execution_count": 30,
   "metadata": {
    "scrolled": true
   },
   "outputs": [
    {
     "name": "stdout",
     "output_type": "stream",
     "text": [
      "0.8615480661392212 My wife gets migraines. When she does, I try to help. I do not complain that I can't fuck her.\n",
      "\n",
      "Your husband is an inconsiderate asshole.\n",
      "------------------------------\n",
      "0.8048534989356995 He sounds like a massive cunt. Just for screaming at you when he knows you've got a migraine.\n",
      "\n",
      "I have migraines too and this would fuck me right off.\n",
      "\n",
      "He's a selfish, inconsiderate bastard.\n",
      "------------------------------\n",
      "0.8023735880851746 Wow. You’re husband is an ass. You had a migraine. This is not ok. \n",
      "\n",
      "You have every right to be upset.\n",
      "------------------------------\n",
      "0.7999916076660156 He's obviously never had a migraine. Your son needs to stand up for himself, too. Husband obviously thinks he's a creep. NTA\n",
      "------------------------------\n",
      "0.7974908947944641 My ex (yeah ... EX) used to be like that when I had a migraine. So selfish.\n",
      "------------------------------\n",
      "0.7940849661827087 You should talk to your husband and see if he has a good reason. Make sure you ask him if there's anything he isn't telling you. If he doesn't have anything then it's probably just something he feels. But at the end of the day having a migraine is more than enough of a reason to have an almost adult son take care of his daughter.\n",
      "------------------------------\n",
      "0.791442334651947 I know someone who gets convenient migraines.  You're in for a hell of a life.\n",
      "------------------------------\n",
      "0.7913679480552673 How sweet &lt;3 meanwhile my partner just tried guilting and telling me that he has to go jerk off cuz me having a migraine is inconveniencing him oh so badly.. &gt;.&gt;\n",
      "------------------------------\n",
      "0.7909473180770874 Hes letting you know it wont get that far\n",
      " I'm sorry but he just doesnt love you. Telling you that even if you had a migraine they would still come in? Hes a jerk girl don't waste any more time\n",
      "------------------------------\n",
      "0.7875563502311707 This is SO weird. Migraines are not fun. And the fact hes trying to give his wife, someone he cares about, the worst pain ever, just proves what kind of person he is. You need marriage counseling asap. Or leave him because hes fucking nuts and selfish. \n",
      "------------------------------\n",
      "0.7851121425628662 I would be looking for a good divorce lawyer.  This man is cruel to yell at you when you are having a migraine. He disrespected your son.  I would never put up with that and you shouldn’t either.\n",
      "------------------------------\n",
      "0.7846841216087341 Your husband sounds like an asshole! There’s nothing wrong with a 16 year old babysitting and caring for a younger sibling. The fact he didn’t care that you had a migraine is very telling. Next time he calls out sick from work treat him like dog shit scream at him and tell him being sick is no excuse for not working! See how he likes it!\n",
      "------------------------------\n",
      "0.7797901034355164 Someone screaming at you with a migraine is literally torture.\n",
      "------------------------------\n",
      "0.7737357020378113 What's wrong with your sister? Why on Earth would she yell at her child for something so innocent.\n",
      "\n",
      "I mean really, he might have had a migraine or needed time on his own, only he knows for sure.\n",
      "\n",
      "But as you say you have a good relationship so maybe he wouldn't lie to you.\n",
      "------------------------------\n",
      "0.7703911662101746 Also, screaming at someone with a migraine is not acceptable. That shit's not cool.\n",
      "------------------------------\n",
      "0.7683145403862 from someone who suffers bad migraines this is awful. Leave his ass. Its hard to understand how hard it is to do anything when your mid migraine. I cant do anything, I have to shut my world down and try to sleep. Its ok to have your son help, and good on him for helping his mom out. \n",
      "\n",
      "screw your lazy ass abusive husband. sorry just had to say it\n",
      "------------------------------\n",
      "0.7668091654777527 Your girlfriend is being an ass. \n",
      "\n",
      "She's an adult. You don't need to be there when she has a headache..\n",
      "\n",
      "And I'm assuming you aren't talking about severe migraine or anything like that\n",
      "------------------------------\n",
      "0.7658509016036987 &gt; If he can't handle it, better that you know now and can find someone who is more mature. If he gets mad at you for having a migraine or getting sick, then you know he's a bad guy. If he's a good guy, not only will he be reassuring, he will do whatever he can to help you.\n",
      "\n",
      "Again for the people in the back!!\n",
      "------------------------------\n",
      "0.7651466727256775 This might be a small thing but what kind of asshole yells at you after saying you have a migraine? The worst possible reaction\n",
      "------------------------------\n",
      "0.7590949535369873 I wouldnt say she's a warrior mom. A man had a migraine and asked their child to wash their other kid and the wife comes home yelling? Sounds pretty bad to me\n",
      "------------------------------\n"
     ]
    }
   ],
   "source": [
    "cluster = 9\n",
    "for i in range(0,20):\n",
    "    filt = tweets[(tweets['topic']==cluster) & (tweets['tweet'].apply(lambda x: '' in x))]\n",
    "    print(filt.iloc[i].closeness,\n",
    "         df.iloc[filt.index[i]]['text'])\n",
    "    print('------------------------------')"
   ]
  },
  {
   "cell_type": "markdown",
   "metadata": {},
   "source": [
    "### Save the topic modelling results"
   ]
  },
  {
   "cell_type": "code",
   "execution_count": 18,
   "metadata": {},
   "outputs": [],
   "source": [
    "with open('relationship_100v_10topic_data.pickle', 'wb') as handle:\n",
    "    pickle.dump({'topics':topics, 'tweets':tweets,'scoreDf':scoreDF, 'tfidf_matrix':tfidf_matrix,\n",
    "                 'tengrams':tengrams,'tfgrams':tfgrams,'clossest_docs':clossest_docs}, handle)"
   ]
  },
  {
   "cell_type": "code",
   "execution_count": 23,
   "metadata": {},
   "outputs": [],
   "source": [
    "with open(r'relationship_100v_10topic_data.pickle', 'rb') as handle:\n",
    "    t = pickle.load(handle)"
   ]
  }
 ],
 "metadata": {
  "kernelspec": {
   "display_name": "Python 3",
   "language": "python",
   "name": "python3"
  },
  "language_info": {
   "codemirror_mode": {
    "name": "ipython",
    "version": 3
   },
   "file_extension": ".py",
   "mimetype": "text/x-python",
   "name": "python",
   "nbconvert_exporter": "python",
   "pygments_lexer": "ipython3",
   "version": "3.6.9"
  }
 },
 "nbformat": 4,
 "nbformat_minor": 2
}
